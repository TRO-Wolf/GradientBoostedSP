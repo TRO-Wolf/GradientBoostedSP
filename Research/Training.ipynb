{
 "cells": [
  {
   "cell_type": "code",
   "execution_count": 1,
   "metadata": {},
   "outputs": [],
   "source": [
    "import warnings\n",
    "warnings.filterwarnings('ignore')\n",
    "import numpy as np\n",
    "import pandas as pd\n",
    "import talib\n",
    "from sklearn.preprocessing import scale, MinMaxScaler\n",
    "from sklearn.model_selection import train_test_split, TimeSeriesSplit\n",
    "from sklearn.metrics import mean_squared_error\n",
    "\n",
    "from xgboost import XGBClassifier, XGBRegressor\n",
    "from lightgbm import LGBMClassifier\n",
    "\n",
    "import plotly.graph_objects as go\n",
    "import plotly.express as px\n",
    "\n",
    "from joblib import Parallel, delayed\n",
    "\n",
    "import itertools"
   ]
  },
  {
   "cell_type": "markdown",
   "metadata": {},
   "source": [
    "<h1>Read the data into a pandas dataframe</h1>\n",
    "<h2>Convert the Date column to a datetime format</h2>\n",
    "<h2>Set the Date as the index and convert entire dataframe to a datatype of float</h2>"
   ]
  },
  {
   "cell_type": "code",
   "execution_count": 3,
   "metadata": {},
   "outputs": [],
   "source": [
    "df = pd.read_csv('ReadyToTrainData.csv')\n",
    "df['Date'] = df['Date'].astype('datetime64[ns]')\n",
    "df = df.set_index('Date')\n",
    "df = df.astype('float32')\n",
    "data = df.copy()\n"
   ]
  },
  {
   "cell_type": "markdown",
   "metadata": {},
   "source": [
    "<h2> Split the data into X and y </h2>"
   ]
  },
  {
   "cell_type": "code",
   "execution_count": 4,
   "metadata": {},
   "outputs": [],
   "source": [
    "y = data[['target']]\n",
    "X = data.drop(['target'],axis=1)"
   ]
  },
  {
   "cell_type": "markdown",
   "metadata": {},
   "source": [
    "<h2> Define our K Fold Splitter, in this instance we will use a Time Series Walk Forward Methodology and start prior to the 2008 Recession </h2>"
   ]
  },
  {
   "cell_type": "code",
   "execution_count": 5,
   "metadata": {},
   "outputs": [],
   "source": [
    "splitter = TimeSeriesSplit(n_splits=16, test_size=252)"
   ]
  },
  {
   "cell_type": "markdown",
   "metadata": {},
   "source": [
    "<h2> Start with a general XGBoost Regression model </h2>"
   ]
  },
  {
   "cell_type": "code",
   "execution_count": 7,
   "metadata": {},
   "outputs": [],
   "source": [
    "depth = 7\n",
    "model = XGBRegressor(\n",
    "    objective='reg:squarederror',\n",
    "    tree_method='hist',\n",
    "    booster='gbtree',\n",
    "    n_estimators=100,\n",
    "    learning_rate=0.01,\n",
    "    max_depth=depth,\n",
    "    colsample_bytree=0.5,\n",
    "    random_state=5,\n",
    "    subsample=0.98,\n",
    "    min_child_weight=2,\n",
    "    importance_type='gain'\n",
    ")"
   ]
  },
  {
   "cell_type": "markdown",
   "metadata": {},
   "source": [
    "<h2> Here I create custom folds rather than use a Grid Search. <br>The purpose being that this method gives me the ability to analyze <br> each Parameter grid invidually </h2>"
   ]
  },
  {
   "cell_type": "code",
   "execution_count": 6,
   "metadata": {},
   "outputs": [],
   "source": [
    "train_tuples = []\n",
    "test_tuples = []\n",
    "splits_tuples = []\n",
    "for i, (train_index, test_index) in enumerate(splitter.split(X)):\n",
    "    X_train, y_train = X.iloc[train_index], y.iloc[train_index]\n",
    "    X_test, y_test = X.iloc[test_index], y.iloc[test_index]\n",
    "    train_tuples.append((X_train, y_train))\n",
    "    test_tuples.append((X_test, y_test))\n",
    "    splits_tuples.append(\n",
    "        (X.iloc[train_index], y.iloc[train_index], X.iloc[test_index], y.iloc[test_index])\n",
    "    )"
   ]
  },
  {
   "cell_type": "markdown",
   "metadata": {},
   "source": [
    "<h2> Here I iteratively create a list of models which will be passed into a function for training </h2>"
   ]
  },
  {
   "cell_type": "code",
   "execution_count": 16,
   "metadata": {},
   "outputs": [],
   "source": [
    "\n",
    "\n",
    "#create a dictionary with list\n",
    "\n",
    "defaults_new = {\n",
    "    'n_estimators':[100, 150],\n",
    "    'max_depth':[3,4,5,6,7],\n",
    "    'num_parallel_tree':[1,3,5,7],\n",
    "    'subsample':[0.98],\n",
    "    'colsample_bytree': [0.1,0.3],\n",
    "    'colsample_bynode':[0.1,0.3],\n",
    "    'learning_rate': [0.1, 0.3, 0.01],\n",
    "    'random_state': [5],\n",
    "    'n_jobs':[2]\n",
    "}\n",
    "\n",
    "#create combinations of all possible parameters\n",
    "combinations = itertools.product(*defaults_new.values())\n",
    "\n",
    "#combine the combinations with their values\n",
    "sub_dicts = [dict(zip(defaults_new.keys(), combo)) for combo in combinations]\n",
    "\n",
    "#create a list of models to plug into the Parallel Joblib function\n",
    "hypersearch_list = [XGBRegressor(**params) for params in sub_dicts]"
   ]
  },
  {
   "cell_type": "code",
   "execution_count": 17,
   "metadata": {},
   "outputs": [
    {
     "data": {
      "text/plain": [
       "480"
      ]
     },
     "execution_count": 17,
     "metadata": {},
     "output_type": "execute_result"
    }
   ],
   "source": [
    "len(hypersearch_list)"
   ]
  },
  {
   "cell_type": "code",
   "execution_count": 18,
   "metadata": {},
   "outputs": [
    {
     "data": {
      "text/html": [
       "<style>#sk-container-id-4 {color: black;background-color: white;}#sk-container-id-4 pre{padding: 0;}#sk-container-id-4 div.sk-toggleable {background-color: white;}#sk-container-id-4 label.sk-toggleable__label {cursor: pointer;display: block;width: 100%;margin-bottom: 0;padding: 0.3em;box-sizing: border-box;text-align: center;}#sk-container-id-4 label.sk-toggleable__label-arrow:before {content: \"▸\";float: left;margin-right: 0.25em;color: #696969;}#sk-container-id-4 label.sk-toggleable__label-arrow:hover:before {color: black;}#sk-container-id-4 div.sk-estimator:hover label.sk-toggleable__label-arrow:before {color: black;}#sk-container-id-4 div.sk-toggleable__content {max-height: 0;max-width: 0;overflow: hidden;text-align: left;background-color: #f0f8ff;}#sk-container-id-4 div.sk-toggleable__content pre {margin: 0.2em;color: black;border-radius: 0.25em;background-color: #f0f8ff;}#sk-container-id-4 input.sk-toggleable__control:checked~div.sk-toggleable__content {max-height: 200px;max-width: 100%;overflow: auto;}#sk-container-id-4 input.sk-toggleable__control:checked~label.sk-toggleable__label-arrow:before {content: \"▾\";}#sk-container-id-4 div.sk-estimator input.sk-toggleable__control:checked~label.sk-toggleable__label {background-color: #d4ebff;}#sk-container-id-4 div.sk-label input.sk-toggleable__control:checked~label.sk-toggleable__label {background-color: #d4ebff;}#sk-container-id-4 input.sk-hidden--visually {border: 0;clip: rect(1px 1px 1px 1px);clip: rect(1px, 1px, 1px, 1px);height: 1px;margin: -1px;overflow: hidden;padding: 0;position: absolute;width: 1px;}#sk-container-id-4 div.sk-estimator {font-family: monospace;background-color: #f0f8ff;border: 1px dotted black;border-radius: 0.25em;box-sizing: border-box;margin-bottom: 0.5em;}#sk-container-id-4 div.sk-estimator:hover {background-color: #d4ebff;}#sk-container-id-4 div.sk-parallel-item::after {content: \"\";width: 100%;border-bottom: 1px solid gray;flex-grow: 1;}#sk-container-id-4 div.sk-label:hover label.sk-toggleable__label {background-color: #d4ebff;}#sk-container-id-4 div.sk-serial::before {content: \"\";position: absolute;border-left: 1px solid gray;box-sizing: border-box;top: 0;bottom: 0;left: 50%;z-index: 0;}#sk-container-id-4 div.sk-serial {display: flex;flex-direction: column;align-items: center;background-color: white;padding-right: 0.2em;padding-left: 0.2em;position: relative;}#sk-container-id-4 div.sk-item {position: relative;z-index: 1;}#sk-container-id-4 div.sk-parallel {display: flex;align-items: stretch;justify-content: center;background-color: white;position: relative;}#sk-container-id-4 div.sk-item::before, #sk-container-id-4 div.sk-parallel-item::before {content: \"\";position: absolute;border-left: 1px solid gray;box-sizing: border-box;top: 0;bottom: 0;left: 50%;z-index: -1;}#sk-container-id-4 div.sk-parallel-item {display: flex;flex-direction: column;z-index: 1;position: relative;background-color: white;}#sk-container-id-4 div.sk-parallel-item:first-child::after {align-self: flex-end;width: 50%;}#sk-container-id-4 div.sk-parallel-item:last-child::after {align-self: flex-start;width: 50%;}#sk-container-id-4 div.sk-parallel-item:only-child::after {width: 0;}#sk-container-id-4 div.sk-dashed-wrapped {border: 1px dashed gray;margin: 0 0.4em 0.5em 0.4em;box-sizing: border-box;padding-bottom: 0.4em;background-color: white;}#sk-container-id-4 div.sk-label label {font-family: monospace;font-weight: bold;display: inline-block;line-height: 1.2em;}#sk-container-id-4 div.sk-label-container {text-align: center;}#sk-container-id-4 div.sk-container {/* jupyter's `normalize.less` sets `[hidden] { display: none; }` but bootstrap.min.css set `[hidden] { display: none !important; }` so we also need the `!important` here to be able to override the default hidden behavior on the sphinx rendered scikit-learn.org. See: https://github.com/scikit-learn/scikit-learn/issues/21755 */display: inline-block !important;position: relative;}#sk-container-id-4 div.sk-text-repr-fallback {display: none;}</style><div id=\"sk-container-id-4\" class=\"sk-top-container\"><div class=\"sk-text-repr-fallback\"><pre>XGBRegressor(base_score=None, booster=None, callbacks=None,\n",
       "             colsample_bylevel=None, colsample_bynode=0.1, colsample_bytree=0.1,\n",
       "             early_stopping_rounds=None, enable_categorical=False,\n",
       "             eval_metric=None, feature_types=None, gamma=None, gpu_id=None,\n",
       "             grow_policy=None, importance_type=None,\n",
       "             interaction_constraints=None, learning_rate=0.1, max_bin=None,\n",
       "             max_cat_threshold=None, max_cat_to_onehot=None,\n",
       "             max_delta_step=None, max_depth=3, max_leaves=None,\n",
       "             min_child_weight=None, missing=nan, monotone_constraints=None,\n",
       "             n_estimators=100, n_jobs=2, num_parallel_tree=1, predictor=None,\n",
       "             random_state=5, ...)</pre><b>In a Jupyter environment, please rerun this cell to show the HTML representation or trust the notebook. <br />On GitHub, the HTML representation is unable to render, please try loading this page with nbviewer.org.</b></div><div class=\"sk-container\" hidden><div class=\"sk-item\"><div class=\"sk-estimator sk-toggleable\"><input class=\"sk-toggleable__control sk-hidden--visually\" id=\"sk-estimator-id-4\" type=\"checkbox\" checked><label for=\"sk-estimator-id-4\" class=\"sk-toggleable__label sk-toggleable__label-arrow\">XGBRegressor</label><div class=\"sk-toggleable__content\"><pre>XGBRegressor(base_score=None, booster=None, callbacks=None,\n",
       "             colsample_bylevel=None, colsample_bynode=0.1, colsample_bytree=0.1,\n",
       "             early_stopping_rounds=None, enable_categorical=False,\n",
       "             eval_metric=None, feature_types=None, gamma=None, gpu_id=None,\n",
       "             grow_policy=None, importance_type=None,\n",
       "             interaction_constraints=None, learning_rate=0.1, max_bin=None,\n",
       "             max_cat_threshold=None, max_cat_to_onehot=None,\n",
       "             max_delta_step=None, max_depth=3, max_leaves=None,\n",
       "             min_child_weight=None, missing=nan, monotone_constraints=None,\n",
       "             n_estimators=100, n_jobs=2, num_parallel_tree=1, predictor=None,\n",
       "             random_state=5, ...)</pre></div></div></div></div></div>"
      ],
      "text/plain": [
       "XGBRegressor(base_score=None, booster=None, callbacks=None,\n",
       "             colsample_bylevel=None, colsample_bynode=0.1, colsample_bytree=0.1,\n",
       "             early_stopping_rounds=None, enable_categorical=False,\n",
       "             eval_metric=None, feature_types=None, gamma=None, gpu_id=None,\n",
       "             grow_policy=None, importance_type=None,\n",
       "             interaction_constraints=None, learning_rate=0.1, max_bin=None,\n",
       "             max_cat_threshold=None, max_cat_to_onehot=None,\n",
       "             max_delta_step=None, max_depth=3, max_leaves=None,\n",
       "             min_child_weight=None, missing=nan, monotone_constraints=None,\n",
       "             n_estimators=100, n_jobs=2, num_parallel_tree=1, predictor=None,\n",
       "             random_state=5, ...)"
      ]
     },
     "execution_count": 18,
     "metadata": {},
     "output_type": "execute_result"
    }
   ],
   "source": [
    "hypersearch_list[0]"
   ]
  },
  {
   "cell_type": "markdown",
   "metadata": {},
   "source": [
    "<h2> Create a training method that will run the walk forward training. <br> \n",
    "Then the function append the scores for each fold and create a tuple of these values </h2>"
   ]
  },
  {
   "cell_type": "code",
   "execution_count": 10,
   "metadata": {},
   "outputs": [],
   "source": [
    "def training(input_model):\n",
    "    model = input_model\n",
    "    y_test_list = []\n",
    "    for i in splits_tuples:\n",
    "        X_train, y_train, X_test, y_test = i\n",
    "        model.fit(X_train, y_train)\n",
    "        y_test['pred'] = model.predict(X_test)\n",
    "        y_test_list.append(y_test)\n",
    "    preds_df = pd.concat(i for i in y_test_list)\n",
    "    score_08 = mean_squared_error(preds_df.loc['2008'].target, preds_df.loc['2008'].pred)\n",
    "    total_score = mean_squared_error(preds_df.target, preds_df.pred)\n",
    "\n",
    "    score = score_08\n",
    "\n",
    "    data_tuple = (score,total_score, model.get_params())\n",
    "\n",
    "    return data_tuple"
   ]
  },
  {
   "cell_type": "markdown",
   "metadata": {},
   "source": [
    "<h2> This method utilizes the Parallel library to train multiple models on multiple cores </h2>"
   ]
  },
  {
   "cell_type": "code",
   "execution_count": 20,
   "metadata": {},
   "outputs": [],
   "source": [
    "def run_multi_core():\n",
    "    results = Parallel(n_jobs=24)(delayed(training)(i) for i in hypersearch_list)\n",
    "    return results"
   ]
  },
  {
   "cell_type": "markdown",
   "metadata": {},
   "source": [
    "<h2> Creates a final dataframe based on the results obtained from the run_mulit_core function </h2>"
   ]
  },
  {
   "cell_type": "code",
   "execution_count": 21,
   "metadata": {},
   "outputs": [],
   "source": [
    "def create_df():\n",
    "    data_tuple = run_multi_core()\n",
    "    data = pd.DataFrame(data_tuple,\n",
    "                        columns=['08_score', 'total_score', 'params'])\n",
    "    data = data.sort_values(by='08_score', ascending=True)\n",
    "    return data"
   ]
  },
  {
   "cell_type": "code",
   "execution_count": 22,
   "metadata": {},
   "outputs": [],
   "source": [
    "results = create_df()"
   ]
  },
  {
   "cell_type": "code",
   "execution_count": 23,
   "metadata": {},
   "outputs": [
    {
     "data": {
      "text/html": [
       "<div>\n",
       "<style scoped>\n",
       "    .dataframe tbody tr th:only-of-type {\n",
       "        vertical-align: middle;\n",
       "    }\n",
       "\n",
       "    .dataframe tbody tr th {\n",
       "        vertical-align: top;\n",
       "    }\n",
       "\n",
       "    .dataframe thead th {\n",
       "        text-align: right;\n",
       "    }\n",
       "</style>\n",
       "<table border=\"1\" class=\"dataframe\">\n",
       "  <thead>\n",
       "    <tr style=\"text-align: right;\">\n",
       "      <th></th>\n",
       "      <th>08_score</th>\n",
       "      <th>total_score</th>\n",
       "      <th>params</th>\n",
       "    </tr>\n",
       "  </thead>\n",
       "  <tbody>\n",
       "    <tr>\n",
       "      <th>154</th>\n",
       "      <td>0.000664</td>\n",
       "      <td>0.000267</td>\n",
       "      <td>{'objective': 'reg:squarederror', 'base_score'...</td>\n",
       "    </tr>\n",
       "    <tr>\n",
       "      <th>151</th>\n",
       "      <td>0.000664</td>\n",
       "      <td>0.000267</td>\n",
       "      <td>{'objective': 'reg:squarederror', 'base_score'...</td>\n",
       "    </tr>\n",
       "    <tr>\n",
       "      <th>391</th>\n",
       "      <td>0.000668</td>\n",
       "      <td>0.000273</td>\n",
       "      <td>{'objective': 'reg:squarederror', 'base_score'...</td>\n",
       "    </tr>\n",
       "    <tr>\n",
       "      <th>394</th>\n",
       "      <td>0.000668</td>\n",
       "      <td>0.000273</td>\n",
       "      <td>{'objective': 'reg:squarederror', 'base_score'...</td>\n",
       "    </tr>\n",
       "    <tr>\n",
       "      <th>0</th>\n",
       "      <td>0.000670</td>\n",
       "      <td>0.000180</td>\n",
       "      <td>{'objective': 'reg:squarederror', 'base_score'...</td>\n",
       "    </tr>\n",
       "    <tr>\n",
       "      <th>3</th>\n",
       "      <td>0.000670</td>\n",
       "      <td>0.000180</td>\n",
       "      <td>{'objective': 'reg:squarederror', 'base_score'...</td>\n",
       "    </tr>\n",
       "    <tr>\n",
       "      <th>39</th>\n",
       "      <td>0.000675</td>\n",
       "      <td>0.000178</td>\n",
       "      <td>{'objective': 'reg:squarederror', 'base_score'...</td>\n",
       "    </tr>\n",
       "    <tr>\n",
       "      <th>36</th>\n",
       "      <td>0.000675</td>\n",
       "      <td>0.000178</td>\n",
       "      <td>{'objective': 'reg:squarederror', 'base_score'...</td>\n",
       "    </tr>\n",
       "    <tr>\n",
       "      <th>15</th>\n",
       "      <td>0.000678</td>\n",
       "      <td>0.000176</td>\n",
       "      <td>{'objective': 'reg:squarederror', 'base_score'...</td>\n",
       "    </tr>\n",
       "    <tr>\n",
       "      <th>12</th>\n",
       "      <td>0.000678</td>\n",
       "      <td>0.000176</td>\n",
       "      <td>{'objective': 'reg:squarederror', 'base_score'...</td>\n",
       "    </tr>\n",
       "  </tbody>\n",
       "</table>\n",
       "</div>"
      ],
      "text/plain": [
       "     08_score  total_score                                             params\n",
       "154  0.000664     0.000267  {'objective': 'reg:squarederror', 'base_score'...\n",
       "151  0.000664     0.000267  {'objective': 'reg:squarederror', 'base_score'...\n",
       "391  0.000668     0.000273  {'objective': 'reg:squarederror', 'base_score'...\n",
       "394  0.000668     0.000273  {'objective': 'reg:squarederror', 'base_score'...\n",
       "0    0.000670     0.000180  {'objective': 'reg:squarederror', 'base_score'...\n",
       "3    0.000670     0.000180  {'objective': 'reg:squarederror', 'base_score'...\n",
       "39   0.000675     0.000178  {'objective': 'reg:squarederror', 'base_score'...\n",
       "36   0.000675     0.000178  {'objective': 'reg:squarederror', 'base_score'...\n",
       "15   0.000678     0.000176  {'objective': 'reg:squarederror', 'base_score'...\n",
       "12   0.000678     0.000176  {'objective': 'reg:squarederror', 'base_score'..."
      ]
     },
     "execution_count": 23,
     "metadata": {},
     "output_type": "execute_result"
    }
   ],
   "source": [
    "results.head(10)"
   ]
  }
 ],
 "metadata": {
  "kernelspec": {
   "display_name": "Python 3",
   "language": "python",
   "name": "python3"
  },
  "language_info": {
   "codemirror_mode": {
    "name": "ipython",
    "version": 3
   },
   "file_extension": ".py",
   "mimetype": "text/x-python",
   "name": "python",
   "nbconvert_exporter": "python",
   "pygments_lexer": "ipython3",
   "version": "3.9.12"
  },
  "orig_nbformat": 4
 },
 "nbformat": 4,
 "nbformat_minor": 2
}
